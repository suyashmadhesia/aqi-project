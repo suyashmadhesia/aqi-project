{
 "cells": [
  {
   "cell_type": "code",
   "execution_count": null,
   "metadata": {},
   "outputs": [],
   "source": [
    "import pandas as pd\n",
    "import numpy as np\n",
    "import matplotlib.pyplot as plt"
   ]
  },
  {
   "cell_type": "code",
   "execution_count": null,
   "metadata": {},
   "outputs": [],
   "source": [
    "# Constant\n",
    "RAW_DATA = \"../data/raw/\"\n",
    "PROC_DATA= \"../data/processed/\"\n",
    "RAW_DATA_FROM_DRIVE=\"https://drive.google.com/file/d/15DxBhlJwMT_yDiCh06b1AzNKgN9R_Xcw/view?usp=share_link\"\n",
    "PATH='https://drive.google.com/uc?export=download&id='+RAW_DATA_FROM_DRIVE.split('/')[-2]"
   ]
  },
  {
   "cell_type": "code",
   "execution_count": null,
   "metadata": {},
   "outputs": [],
   "source": [
    "# Do not run this cell again after after successfully running it first on setup\n",
    "raw_data = None\n",
    "try:\n",
    "    print(\"Make sure to connect to the internet. If you are not connected to internet press Ctrl+C and Try again.\")\n",
    "    print(\"Do not run any other cell before complete excecution of this cell. It will take 5min to 10min depends on your Internet connection!\")\n",
    "    raw_data=pd.read_csv(PATH)\n",
    "    print(\"!!!!!!!!!Success!!!!!!!!!\")\n",
    "    print(\"Do not run this cell again after after successfully running it first time after the setup\")\n",
    "except:\n",
    "    print(\"Something went wrong try again. Make sure you are connected to internet or file doesn't exist on given drive link\")"
   ]
  },
  {
   "cell_type": "code",
   "execution_count": null,
   "metadata": {},
   "outputs": [],
   "source": [
    "# This will work if everything work fine. If not this gives you a error\n",
    "raw_data.info()"
   ]
  },
  {
   "cell_type": "code",
   "execution_count": null,
   "metadata": {},
   "outputs": [],
   "source": [
    "data_luck = raw_data[raw_data.City==\"Lucknow\"]\n",
    "data_del = raw_data[raw_data.City==\"Delhi\"]"
   ]
  },
  {
   "cell_type": "code",
   "execution_count": null,
   "metadata": {},
   "outputs": [],
   "source": [
    "# This will prepare some raw data on your system to work with.\n",
    "data_luck.to_csv(RAW_DATA+\"raw_data_lucknow.csv\", index=False)\n",
    "data_del.to_csv(RAW_DATA+\"raw_data_delhi.csv\", index=False)"
   ]
  }
 ],
 "metadata": {
  "kernelspec": {
   "display_name": "Python 3.10.6 ('env': venv)",
   "language": "python",
   "name": "python3"
  },
  "language_info": {
   "codemirror_mode": {
    "name": "ipython",
    "version": 3
   },
   "file_extension": ".py",
   "mimetype": "text/x-python",
   "name": "python",
   "nbconvert_exporter": "python",
   "pygments_lexer": "ipython3",
   "version": "3.10.6"
  },
  "orig_nbformat": 4,
  "vscode": {
   "interpreter": {
    "hash": "7949c529d0a8e859289aad7c65f52bfb9d324abe58a8c60e49593727c0d6a4b2"
   }
  }
 },
 "nbformat": 4,
 "nbformat_minor": 2
}
